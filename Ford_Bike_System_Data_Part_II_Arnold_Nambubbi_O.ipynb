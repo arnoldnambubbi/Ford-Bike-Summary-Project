{
 "cells": [
  {
   "cell_type": "markdown",
   "metadata": {
    "slideshow": {
     "slide_type": "slide"
    }
   },
   "source": [
    "# Part II - (Ford Bike System Data)\n",
    "## by (Arnold Nambubbi)"
   ]
  },
  {
   "cell_type": "markdown",
   "metadata": {
    "slideshow": {
     "slide_type": "slide"
    }
   },
   "source": [
    "\n",
    "\n",
    "## Investigation Overview\n",
    "The features affecting bike usage. Main features taken into account are user_type, day of the week (weekday or weekend) and time of the day.\n",
    "\n",
    "\n",
    "## Dataset Overview\n",
    "This data set includes information about individual rides made in a bike-sharing system covering the greater San Francisco Bay area."
   ]
  },
  {
   "cell_type": "code",
   "execution_count": 1,
   "metadata": {
    "slideshow": {
     "slide_type": "skip"
    }
   },
   "outputs": [],
   "source": [
    "# import all packages and set plots to be embedded inline\n",
    "import numpy as np\n",
    "import pandas as pd\n",
    "import matplotlib.pyplot as plt\n",
    "import seaborn as sns\n",
    "import os\n",
    "import glob\n",
    "%matplotlib inline"
   ]
  },
  {
   "cell_type": "code",
   "execution_count": 2,
   "metadata": {
    "slideshow": {
     "slide_type": "skip"
    }
   },
   "outputs": [],
   "source": [
    "# Making a list of all the zip files\n",
    "zipped = glob.glob('./data/*.zip')\n",
    "# Extract all zipfile using zipfile library\n",
    "for zip_file in zipped:\n",
    "    with zipfile.ZipFile(zip_file, 'r') as zip_ref:\n",
    "        zip_ref.extractall(\"./data/\")"
   ]
  },
  {
   "cell_type": "code",
   "execution_count": 3,
   "metadata": {
    "slideshow": {
     "slide_type": "skip"
    }
   },
   "outputs": [],
   "source": [
    "file_list = glob.glob('./data/*.csv') "
   ]
  },
  {
   "cell_type": "code",
   "execution_count": 4,
   "metadata": {
    "slideshow": {
     "slide_type": "skip"
    }
   },
   "outputs": [
    {
     "data": {
      "text/html": [
       "<div>\n",
       "<style scoped>\n",
       "    .dataframe tbody tr th:only-of-type {\n",
       "        vertical-align: middle;\n",
       "    }\n",
       "\n",
       "    .dataframe tbody tr th {\n",
       "        vertical-align: top;\n",
       "    }\n",
       "\n",
       "    .dataframe thead th {\n",
       "        text-align: right;\n",
       "    }\n",
       "</style>\n",
       "<table border=\"1\" class=\"dataframe\">\n",
       "  <thead>\n",
       "    <tr style=\"text-align: right;\">\n",
       "      <th></th>\n",
       "      <th>duration_sec</th>\n",
       "      <th>start_time</th>\n",
       "      <th>end_time</th>\n",
       "      <th>start_station_id</th>\n",
       "      <th>start_station_name</th>\n",
       "      <th>start_station_latitude</th>\n",
       "      <th>start_station_longitude</th>\n",
       "      <th>end_station_id</th>\n",
       "      <th>end_station_name</th>\n",
       "      <th>end_station_latitude</th>\n",
       "      <th>end_station_longitude</th>\n",
       "      <th>bike_id</th>\n",
       "      <th>user_type</th>\n",
       "      <th>member_birth_year</th>\n",
       "      <th>member_gender</th>\n",
       "      <th>bike_share_for_all_trip</th>\n",
       "    </tr>\n",
       "  </thead>\n",
       "  <tbody>\n",
       "    <tr>\n",
       "      <th>153702</th>\n",
       "      <td>850</td>\n",
       "      <td>2019-02-06 11:47:15.5860</td>\n",
       "      <td>2019-02-06 12:01:26.4470</td>\n",
       "      <td>324.0</td>\n",
       "      <td>Union Square (Powell St at Post St)</td>\n",
       "      <td>37.788300</td>\n",
       "      <td>-122.408531</td>\n",
       "      <td>66.0</td>\n",
       "      <td>3rd St at Townsend St</td>\n",
       "      <td>37.778742</td>\n",
       "      <td>-122.392741</td>\n",
       "      <td>5573</td>\n",
       "      <td>Subscriber</td>\n",
       "      <td>1993.0</td>\n",
       "      <td>Male</td>\n",
       "      <td>Yes</td>\n",
       "    </tr>\n",
       "    <tr>\n",
       "      <th>91901</th>\n",
       "      <td>1005</td>\n",
       "      <td>2019-02-15 21:17:36.8050</td>\n",
       "      <td>2019-02-15 21:34:21.8760</td>\n",
       "      <td>66.0</td>\n",
       "      <td>3rd St at Townsend St</td>\n",
       "      <td>37.778742</td>\n",
       "      <td>-122.392741</td>\n",
       "      <td>349.0</td>\n",
       "      <td>Howard St at Mary St</td>\n",
       "      <td>37.781010</td>\n",
       "      <td>-122.405666</td>\n",
       "      <td>5382</td>\n",
       "      <td>Customer</td>\n",
       "      <td>1995.0</td>\n",
       "      <td>Male</td>\n",
       "      <td>No</td>\n",
       "    </tr>\n",
       "    <tr>\n",
       "      <th>124455</th>\n",
       "      <td>259</td>\n",
       "      <td>2019-02-11 08:35:50.1950</td>\n",
       "      <td>2019-02-11 08:40:10.0930</td>\n",
       "      <td>129.0</td>\n",
       "      <td>Harrison St at 20th St</td>\n",
       "      <td>37.758862</td>\n",
       "      <td>-122.412544</td>\n",
       "      <td>108.0</td>\n",
       "      <td>16th St Mission BART</td>\n",
       "      <td>37.764710</td>\n",
       "      <td>-122.419957</td>\n",
       "      <td>5522</td>\n",
       "      <td>Subscriber</td>\n",
       "      <td>1994.0</td>\n",
       "      <td>Male</td>\n",
       "      <td>No</td>\n",
       "    </tr>\n",
       "    <tr>\n",
       "      <th>69043</th>\n",
       "      <td>405</td>\n",
       "      <td>2019-02-19 20:22:45.6800</td>\n",
       "      <td>2019-02-19 20:29:30.7130</td>\n",
       "      <td>181.0</td>\n",
       "      <td>Grand Ave at Webster St</td>\n",
       "      <td>37.811377</td>\n",
       "      <td>-122.265192</td>\n",
       "      <td>193.0</td>\n",
       "      <td>Grand Ave at Santa Clara Ave</td>\n",
       "      <td>37.812744</td>\n",
       "      <td>-122.247215</td>\n",
       "      <td>3626</td>\n",
       "      <td>Subscriber</td>\n",
       "      <td>1986.0</td>\n",
       "      <td>Male</td>\n",
       "      <td>No</td>\n",
       "    </tr>\n",
       "    <tr>\n",
       "      <th>76773</th>\n",
       "      <td>613</td>\n",
       "      <td>2019-02-19 07:58:38.7310</td>\n",
       "      <td>2019-02-19 08:08:51.7510</td>\n",
       "      <td>22.0</td>\n",
       "      <td>Howard St at Beale St</td>\n",
       "      <td>37.789756</td>\n",
       "      <td>-122.394643</td>\n",
       "      <td>6.0</td>\n",
       "      <td>The Embarcadero at Sansome St</td>\n",
       "      <td>37.804770</td>\n",
       "      <td>-122.403234</td>\n",
       "      <td>47</td>\n",
       "      <td>Subscriber</td>\n",
       "      <td>1975.0</td>\n",
       "      <td>Male</td>\n",
       "      <td>No</td>\n",
       "    </tr>\n",
       "  </tbody>\n",
       "</table>\n",
       "</div>"
      ],
      "text/plain": [
       "        duration_sec                start_time                  end_time  \\\n",
       "153702           850  2019-02-06 11:47:15.5860  2019-02-06 12:01:26.4470   \n",
       "91901           1005  2019-02-15 21:17:36.8050  2019-02-15 21:34:21.8760   \n",
       "124455           259  2019-02-11 08:35:50.1950  2019-02-11 08:40:10.0930   \n",
       "69043            405  2019-02-19 20:22:45.6800  2019-02-19 20:29:30.7130   \n",
       "76773            613  2019-02-19 07:58:38.7310  2019-02-19 08:08:51.7510   \n",
       "\n",
       "        start_station_id                   start_station_name  \\\n",
       "153702             324.0  Union Square (Powell St at Post St)   \n",
       "91901               66.0                3rd St at Townsend St   \n",
       "124455             129.0               Harrison St at 20th St   \n",
       "69043              181.0              Grand Ave at Webster St   \n",
       "76773               22.0                Howard St at Beale St   \n",
       "\n",
       "        start_station_latitude  start_station_longitude  end_station_id  \\\n",
       "153702               37.788300              -122.408531            66.0   \n",
       "91901                37.778742              -122.392741           349.0   \n",
       "124455               37.758862              -122.412544           108.0   \n",
       "69043                37.811377              -122.265192           193.0   \n",
       "76773                37.789756              -122.394643             6.0   \n",
       "\n",
       "                     end_station_name  end_station_latitude  \\\n",
       "153702          3rd St at Townsend St             37.778742   \n",
       "91901            Howard St at Mary St             37.781010   \n",
       "124455           16th St Mission BART             37.764710   \n",
       "69043    Grand Ave at Santa Clara Ave             37.812744   \n",
       "76773   The Embarcadero at Sansome St             37.804770   \n",
       "\n",
       "        end_station_longitude  bike_id   user_type  member_birth_year  \\\n",
       "153702            -122.392741     5573  Subscriber             1993.0   \n",
       "91901             -122.405666     5382    Customer             1995.0   \n",
       "124455            -122.419957     5522  Subscriber             1994.0   \n",
       "69043             -122.247215     3626  Subscriber             1986.0   \n",
       "76773             -122.403234       47  Subscriber             1975.0   \n",
       "\n",
       "       member_gender bike_share_for_all_trip  \n",
       "153702          Male                     Yes  \n",
       "91901           Male                      No  \n",
       "124455          Male                      No  \n",
       "69043           Male                      No  \n",
       "76773           Male                      No  "
      ]
     },
     "execution_count": 4,
     "metadata": {},
     "output_type": "execute_result"
    }
   ],
   "source": [
    "ford_bike = pd.read_csv('201902-fordgobike-tripdata.csv')\n",
    "ford_bike.sample(5)"
   ]
  },
  {
   "cell_type": "code",
   "execution_count": 5,
   "metadata": {
    "slideshow": {
     "slide_type": "skip"
    }
   },
   "outputs": [],
   "source": [
    "#make a copy of the ford_bike dataset\n",
    "ford_bike_clean = ford_bike.copy()\n",
    "ford_bike_clean.start_time = pd.to_datetime(ford_bike_clean.start_time, yearfirst=True)\n",
    "ford_bike_clean.end_time = pd.to_datetime(ford_bike_clean.end_time, yearfirst=True)\n",
    "ford_bike_clean.start_station_id = ford_bike_clean.start_station_id.astype(str)\n",
    "ford_bike_clean.end_station_id = ford_bike_clean.end_station_id.astype(str)\n",
    "ford_bike_clean.bike_id = ford_bike_clean.bike_id.astype(str)\n",
    "ford_bike_clean.member_gender = ford_bike_clean.member_gender.astype('category')\n",
    "ford_bike_clean.user_type = ford_bike_clean.user_type.astype('category')\n",
    "ford_bike_clean['day_of_the_week'] = ford_bike_clean['start_time'].dt.day_name()\n",
    "ford_bike_clean['hour'] = ford_bike_clean['start_time'].dt.hour"
   ]
  },
  {
   "cell_type": "markdown",
   "metadata": {
    "slideshow": {
     "slide_type": "slide"
    }
   },
   "source": [
    "## (Visualization 1)\n",
    "Does the day of the week (Weekday or Weekend) affect the number of bike users?\n"
   ]
  },
  {
   "cell_type": "code",
   "execution_count": 6,
   "metadata": {},
   "outputs": [],
   "source": [
    "#Defining a function to label x-y axis and title\n",
    "def label(x, y, t):\n",
    "    \"\"\"\n",
    "    x(str): x-axis title\n",
    "    y(str): y-axis title\n",
    "    t(str): main title\n",
    "    Returns:\n",
    "    None\n",
    "    \"\"\"\n",
    "    plt.xlabel(x)\n",
    "    plt.ylabel(y)\n",
    "    plt.title(t)\n",
    "    plt.show()"
   ]
  },
  {
   "cell_type": "code",
   "execution_count": 7,
   "metadata": {
    "slideshow": {
     "slide_type": "subslide"
    }
   },
   "outputs": [
    {
     "data": {
      "image/png": "[encoded data removed]",
      "text/plain": [
       "<Figure size 720x432 with 1 Axes>"
      ]
     },
     "metadata": {
      "needs_background": "light"
     },
     "output_type": "display_data"
    }
   ],
   "source": [
    "#Plotting a bar chart to visualize the bike users based on day_of_the_week\n",
    "day = ['Monday','Tuesday','Wednesday','Thursday','Friday','Saturday','Sunday']\n",
    "plt.figure(figsize=(10,6))     \n",
    "base_color = sns.color_palette()[0]\n",
    "ax = sns.countplot(data=ford_bike_clean, x ='day_of_the_week', color=base_color, order=day)\n",
    "cat_counts = ford_bike_clean['day_of_the_week'].value_counts()\n",
    "plt.title('Bike Users By Day of the week')\n",
    "n_points = ford_bike_clean.shape[0]\n",
    "label(\"Days of the week\",\"Number of Bike Users\",\"Bike Users by Day of the week\")"
   ]
  },
  {
   "cell_type": "markdown",
   "metadata": {
    "slideshow": {
     "slide_type": "slide"
    }
   },
   "source": [
    "#### There are more bike users during weekdays than weekends. The above visualization shows a significant drop of bike usage on Saturday and Sunday"
   ]
  },
  {
   "cell_type": "markdown",
   "metadata": {
    "collapsed": true,
    "slideshow": {
     "slide_type": "slide"
    }
   },
   "source": [
    "## (Visualization 2)\n",
    "Is there a relationship between the time of day and biker users."
   ]
  },
  {
   "cell_type": "code",
   "execution_count": 8,
   "metadata": {
    "slideshow": {
     "slide_type": "subslide"
    }
   },
   "outputs": [
    {
     "data": {
      "image/png": "[encoded data removed]",
      "text/plain": [
       "<Figure size 720x432 with 1 Axes>"
      ]
     },
     "metadata": {
      "needs_background": "light"
     },
     "output_type": "display_data"
    }
   ],
   "source": [
    "#Plotting a bar chart to visualize the bike users based on the hour of the day\n",
    "hour = np.arange(0,24)\n",
    "plt.figure(figsize=(10,6))     \n",
    "base_color = sns.color_palette()[0]\n",
    "ax = sns.countplot(data=ford_bike_clean, x ='hour', color=base_color, order=hour)\n",
    "cat_counts = ford_bike_clean['hour'].value_counts()\n",
    "plt.title('Bike Users By Hour')\n",
    "n_points = ford_bike_clean.shape[0]\n",
    "label(\"Hour of the day\",\"Number of Bike Users\",\"Number of Bike Users vs Hour of the Day\");"
   ]
  },
  {
   "cell_type": "markdown",
   "metadata": {
    "slideshow": {
     "slide_type": "slide"
    }
   },
   "source": [
    "#### The peak hours are 8am and 5pm.  It is possible it is when people are going to work and leaving from work to home"
   ]
  },
  {
   "cell_type": "markdown",
   "metadata": {
    "slideshow": {
     "slide_type": "slide"
    }
   },
   "source": [
    "## (Visualization 3)\n",
    "Is there a relationship between average duration spent with the bike and user_type\n"
   ]
  },
  {
   "cell_type": "code",
   "execution_count": 9,
   "metadata": {
    "slideshow": {
     "slide_type": "subslide"
    }
   },
   "outputs": [
    {
     "data": {
      "image/png": "[encoded data removed]",
      "text/plain": [
       "<Figure size 720x432 with 1 Axes>"
      ]
     },
     "metadata": {
      "needs_background": "light"
     },
     "output_type": "display_data"
    }
   ],
   "source": [
    "#Plotting a bargraph of the average time subscribers and customers spend time on the bikes\n",
    "ford_bike_usertype_duration = ford_bike_clean[['user_type','duration_sec']].groupby('user_type').mean()\n",
    "ford_bike_usertype_duration.plot(kind = 'bar',figsize=(10,6),color = base_color)\n",
    "label(\"Bike User Type\",\"Average Duration in Seconds\",\"Bike User Type vs Duration\")"
   ]
  },
  {
   "cell_type": "markdown",
   "metadata": {
    "slideshow": {
     "slide_type": "slide"
    }
   },
   "source": [
    "#### On average customers seem to spend more time on the bikes than subscribers"
   ]
  },
  {
   "cell_type": "markdown",
   "metadata": {
    "slideshow": {
     "slide_type": "slide"
    }
   },
   "source": [
    "## (Visualization 4)\n",
    "Is there are relationship between duration a user has on the bike, user type and hour of the day\n",
    "\n"
   ]
  },
  {
   "cell_type": "code",
   "execution_count": 10,
   "metadata": {
    "slideshow": {
     "slide_type": "subslide"
    }
   },
   "outputs": [
    {
     "data": {
      "image/png": "[encoded data removed]",
      "text/plain": [
       "<Figure size 720x432 with 1 Axes>"
      ]
     },
     "metadata": {
      "needs_background": "light"
     },
     "output_type": "display_data"
    }
   ],
   "source": [
    "# plotting a barplot to show the relationship between duration, user type and hour of the day\n",
    "plt.figure(figsize=(10,6))\n",
    "hour = np.arange(0,24)\n",
    "sns.barplot(data = ford_bike_clean, x = 'hour',y= 'duration_sec',hue = 'user_type',ci=None)\n",
    "plt.title('Duration Usage by the Hour(User_Type)', fontsize=15);"
   ]
  },
  {
   "cell_type": "markdown",
   "metadata": {
    "slideshow": {
     "slide_type": "slide"
    }
   },
   "source": [
    "#### Customers tend to be spending most time with the bikes at each time of the day with the peak times being 2am and 3am"
   ]
  },
  {
   "cell_type": "code",
   "execution_count": null,
   "metadata": {
    "scrolled": false,
    "slideshow": {
     "slide_type": "skip"
    }
   },
   "outputs": [],
   "source": [
    "!jupyter nbconvert Ford_Bike_System_Data_Part_II_Arnold_Nambubbi_O.ipynb --to slides --post serve --no-input --no-prompt"
   ]
  },
  {
   "cell_type": "markdown",
   "metadata": {},
   "source": [
    "\n"
   ]
  }
 ],
 "metadata": {
  "celltoolbar": "Slideshow",
  "kernelspec": {
   "display_name": "Python 3 (ipykernel)",
   "language": "python",
   "name": "python3"
  },
  "language_info": {
   "codemirror_mode": {
    "name": "ipython",
    "version": 3
   },
   "file_extension": ".py",
   "mimetype": "text/x-python",
   "name": "python",
   "nbconvert_exporter": "python",
   "pygments_lexer": "ipython3",
   "version": "3.9.12"
  }
 },
 "nbformat": 4,
 "nbformat_minor": 2
}
