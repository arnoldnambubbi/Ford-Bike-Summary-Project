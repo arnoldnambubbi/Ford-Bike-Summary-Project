{
 "cells": [
  {
   "cell_type": "markdown",
   "metadata": {},
   "source": [
    "# Part I - (Fordbike System Data)\n",
    "## by (Arnold Nambubbi)\n",
    "\n",
    "## Introduction\n",
    "> The dataset has information about bike rides in a bike sharing set up that covers the greater San Francisco Bay area. The dataset has 183,412 entries and 16 columns. The features included in the dataset are as follows:\n",
    "\n",
    "duration_sec\n",
    "start_time\n",
    "end_time\n",
    "start_station_id\n",
    "start_station_name\n",
    "start_station_latitude\n",
    "start_station_longitude\n",
    "end_station_id\n",
    "end_station_name\n",
    "end_station_latitude\n",
    "end_station_longitude\n",
    "bike_id\n",
    "user_type\n",
    "member_birth_year\n",
    "member_gender\n",
    "bike_share_for_all_trip\n",
    "\n",
    "\n",
    "\n",
    "\n",
    "## Preliminary Wrangling\n"
   ]
  },
  {
   "cell_type": "code",
   "execution_count": 88,
   "metadata": {},
   "outputs": [],
   "source": [
    "# import all packages and set plots to be embedded inline\n",
    "import numpy as np\n",
    "import pandas as pd\n",
    "import matplotlib.pyplot as plt\n",
    "import seaborn as sns\n",
    "import os\n",
    "import glob\n",
    "%matplotlib inline"
   ]
  },
  {
   "cell_type": "markdown",
   "metadata": {},
   "source": [
    "#### Loading Dataset\n"
   ]
  },
  {
   "cell_type": "code",
   "execution_count": 89,
   "metadata": {},
   "outputs": [],
   "source": [
    "# Making a list of all the zip files\n",
    "zipped = glob.glob('./data/*.zip')"
   ]
  },
  {
   "cell_type": "code",
   "execution_count": 90,
   "metadata": {},
   "outputs": [],
   "source": [
    "# Extract all zipfile using zipfile library\n",
    "for zip_file in zipped:\n",
    "    with zipfile.ZipFile(zip_file, 'r') as zip_ref:\n",
    "        zip_ref.extractall(\"./data/\")"
   ]
  },
  {
   "cell_type": "code",
   "execution_count": 91,
   "metadata": {},
   "outputs": [],
   "source": [
    "file_list = glob.glob('./data/*.csv') \n"
   ]
  },
  {
   "cell_type": "code",
   "execution_count": 92,
   "metadata": {
    "scrolled": true
   },
   "outputs": [
    {
     "data": {
      "text/html": [
       "<div>\n",
       "<style scoped>\n",
       "    .dataframe tbody tr th:only-of-type {\n",
       "        vertical-align: middle;\n",
       "    }\n",
       "\n",
       "    .dataframe tbody tr th {\n",
       "        vertical-align: top;\n",
       "    }\n",
       "\n",
       "    .dataframe thead th {\n",
       "        text-align: right;\n",
       "    }\n",
       "</style>\n",
       "<table border=\"1\" class=\"dataframe\">\n",
       "  <thead>\n",
       "    <tr style=\"text-align: right;\">\n",
       "      <th></th>\n",
       "      <th>duration_sec</th>\n",
       "      <th>start_time</th>\n",
       "      <th>end_time</th>\n",
       "      <th>start_station_id</th>\n",
       "      <th>start_station_name</th>\n",
       "      <th>start_station_latitude</th>\n",
       "      <th>start_station_longitude</th>\n",
       "      <th>end_station_id</th>\n",
       "      <th>end_station_name</th>\n",
       "      <th>end_station_latitude</th>\n",
       "      <th>end_station_longitude</th>\n",
       "      <th>bike_id</th>\n",
       "      <th>user_type</th>\n",
       "      <th>member_birth_year</th>\n",
       "      <th>member_gender</th>\n",
       "      <th>bike_share_for_all_trip</th>\n",
       "    </tr>\n",
       "  </thead>\n",
       "  <tbody>\n",
       "    <tr>\n",
       "      <th>163385</th>\n",
       "      <td>882</td>\n",
       "      <td>2019-02-05 09:14:03.4360</td>\n",
       "      <td>2019-02-05 09:28:45.5560</td>\n",
       "      <td>124.0</td>\n",
       "      <td>19th St at Florida St</td>\n",
       "      <td>37.760447</td>\n",
       "      <td>-122.410807</td>\n",
       "      <td>81.0</td>\n",
       "      <td>Berry St at 4th St</td>\n",
       "      <td>37.775880</td>\n",
       "      <td>-122.393170</td>\n",
       "      <td>3258</td>\n",
       "      <td>Subscriber</td>\n",
       "      <td>1993.0</td>\n",
       "      <td>Female</td>\n",
       "      <td>No</td>\n",
       "    </tr>\n",
       "    <tr>\n",
       "      <th>4530</th>\n",
       "      <td>517</td>\n",
       "      <td>2019-02-28 15:39:47.5380</td>\n",
       "      <td>2019-02-28 15:48:24.8960</td>\n",
       "      <td>211.0</td>\n",
       "      <td>Broadway at 40th St</td>\n",
       "      <td>37.827757</td>\n",
       "      <td>-122.256716</td>\n",
       "      <td>181.0</td>\n",
       "      <td>Grand Ave at Webster St</td>\n",
       "      <td>37.811377</td>\n",
       "      <td>-122.265192</td>\n",
       "      <td>5414</td>\n",
       "      <td>Subscriber</td>\n",
       "      <td>1987.0</td>\n",
       "      <td>Male</td>\n",
       "      <td>No</td>\n",
       "    </tr>\n",
       "    <tr>\n",
       "      <th>69835</th>\n",
       "      <td>342</td>\n",
       "      <td>2019-02-19 18:56:45.7270</td>\n",
       "      <td>2019-02-19 19:02:27.8330</td>\n",
       "      <td>49.0</td>\n",
       "      <td>S Park St at 3rd St</td>\n",
       "      <td>37.780760</td>\n",
       "      <td>-122.394989</td>\n",
       "      <td>21.0</td>\n",
       "      <td>Montgomery St BART Station (Market St at 2nd St)</td>\n",
       "      <td>37.789625</td>\n",
       "      <td>-122.400811</td>\n",
       "      <td>5268</td>\n",
       "      <td>Subscriber</td>\n",
       "      <td>1992.0</td>\n",
       "      <td>Male</td>\n",
       "      <td>No</td>\n",
       "    </tr>\n",
       "    <tr>\n",
       "      <th>170450</th>\n",
       "      <td>146</td>\n",
       "      <td>2019-02-04 08:17:47.0540</td>\n",
       "      <td>2019-02-04 08:20:13.8330</td>\n",
       "      <td>232.0</td>\n",
       "      <td>MLK Jr Way at 14th St</td>\n",
       "      <td>37.806163</td>\n",
       "      <td>-122.276040</td>\n",
       "      <td>7.0</td>\n",
       "      <td>Frank H Ogawa Plaza</td>\n",
       "      <td>37.804562</td>\n",
       "      <td>-122.271738</td>\n",
       "      <td>4559</td>\n",
       "      <td>Subscriber</td>\n",
       "      <td>1988.0</td>\n",
       "      <td>Male</td>\n",
       "      <td>No</td>\n",
       "    </tr>\n",
       "    <tr>\n",
       "      <th>112139</th>\n",
       "      <td>494</td>\n",
       "      <td>2019-02-12 16:06:13.1650</td>\n",
       "      <td>2019-02-12 16:14:27.4100</td>\n",
       "      <td>17.0</td>\n",
       "      <td>Embarcadero BART Station (Beale St at Market St)</td>\n",
       "      <td>37.792251</td>\n",
       "      <td>-122.397086</td>\n",
       "      <td>50.0</td>\n",
       "      <td>2nd St at Townsend St</td>\n",
       "      <td>37.780526</td>\n",
       "      <td>-122.390288</td>\n",
       "      <td>5557</td>\n",
       "      <td>Subscriber</td>\n",
       "      <td>1991.0</td>\n",
       "      <td>Female</td>\n",
       "      <td>No</td>\n",
       "    </tr>\n",
       "  </tbody>\n",
       "</table>\n",
       "</div>"
      ],
      "text/plain": [
       "        duration_sec                start_time                  end_time  \\\n",
       "163385           882  2019-02-05 09:14:03.4360  2019-02-05 09:28:45.5560   \n",
       "4530             517  2019-02-28 15:39:47.5380  2019-02-28 15:48:24.8960   \n",
       "69835            342  2019-02-19 18:56:45.7270  2019-02-19 19:02:27.8330   \n",
       "170450           146  2019-02-04 08:17:47.0540  2019-02-04 08:20:13.8330   \n",
       "112139           494  2019-02-12 16:06:13.1650  2019-02-12 16:14:27.4100   \n",
       "\n",
       "        start_station_id                                start_station_name  \\\n",
       "163385             124.0                             19th St at Florida St   \n",
       "4530               211.0                               Broadway at 40th St   \n",
       "69835               49.0                               S Park St at 3rd St   \n",
       "170450             232.0                             MLK Jr Way at 14th St   \n",
       "112139              17.0  Embarcadero BART Station (Beale St at Market St)   \n",
       "\n",
       "        start_station_latitude  start_station_longitude  end_station_id  \\\n",
       "163385               37.760447              -122.410807            81.0   \n",
       "4530                 37.827757              -122.256716           181.0   \n",
       "69835                37.780760              -122.394989            21.0   \n",
       "170450               37.806163              -122.276040             7.0   \n",
       "112139               37.792251              -122.397086            50.0   \n",
       "\n",
       "                                        end_station_name  \\\n",
       "163385                                Berry St at 4th St   \n",
       "4530                             Grand Ave at Webster St   \n",
       "69835   Montgomery St BART Station (Market St at 2nd St)   \n",
       "170450                               Frank H Ogawa Plaza   \n",
       "112139                             2nd St at Townsend St   \n",
       "\n",
       "        end_station_latitude  end_station_longitude  bike_id   user_type  \\\n",
       "163385             37.775880            -122.393170     3258  Subscriber   \n",
       "4530               37.811377            -122.265192     5414  Subscriber   \n",
       "69835              37.789625            -122.400811     5268  Subscriber   \n",
       "170450             37.804562            -122.271738     4559  Subscriber   \n",
       "112139             37.780526            -122.390288     5557  Subscriber   \n",
       "\n",
       "        member_birth_year member_gender bike_share_for_all_trip  \n",
       "163385             1993.0        Female                      No  \n",
       "4530               1987.0          Male                      No  \n",
       "69835              1992.0          Male                      No  \n",
       "170450             1988.0          Male                      No  \n",
       "112139             1991.0        Female                      No  "
      ]
     },
     "execution_count": 92,
     "metadata": {},
     "output_type": "execute_result"
    }
   ],
   "source": [
    "ford_bike = pd.read_csv('201902-fordgobike-tripdata.csv')\n",
    "ford_bike.sample(5)"
   ]
  },
  {
   "cell_type": "code",
   "execution_count": 93,
   "metadata": {},
   "outputs": [
    {
     "name": "stdout",
     "output_type": "stream",
     "text": [
      "<class 'pandas.core.frame.DataFrame'>\n",
      "RangeIndex: 183412 entries, 0 to 183411\n",
      "Data columns (total 16 columns):\n",
      " #   Column                   Non-Null Count   Dtype  \n",
      "---  ------                   --------------   -----  \n",
      " 0   duration_sec             183412 non-null  int64  \n",
      " 1   start_time               183412 non-null  object \n",
      " 2   end_time                 183412 non-null  object \n",
      " 3   start_station_id         183215 non-null  float64\n",
      " 4   start_station_name       183215 non-null  object \n",
      " 5   start_station_latitude   183412 non-null  float64\n",
      " 6   start_station_longitude  183412 non-null  float64\n",
      " 7   end_station_id           183215 non-null  float64\n",
      " 8   end_station_name         183215 non-null  object \n",
      " 9   end_station_latitude     183412 non-null  float64\n",
      " 10  end_station_longitude    183412 non-null  float64\n",
      " 11  bike_id                  183412 non-null  int64  \n",
      " 12  user_type                183412 non-null  object \n",
      " 13  member_birth_year        175147 non-null  float64\n",
      " 14  member_gender            175147 non-null  object \n",
      " 15  bike_share_for_all_trip  183412 non-null  object \n",
      "dtypes: float64(7), int64(2), object(7)\n",
      "memory usage: 22.4+ MB\n"
     ]
    }
   ],
   "source": [
    "ford_bike.info()"
   ]
  },
  {
   "cell_type": "code",
   "execution_count": 94,
   "metadata": {},
   "outputs": [
    {
     "data": {
      "text/html": [
       "<div>\n",
       "<style scoped>\n",
       "    .dataframe tbody tr th:only-of-type {\n",
       "        vertical-align: middle;\n",
       "    }\n",
       "\n",
       "    .dataframe tbody tr th {\n",
       "        vertical-align: top;\n",
       "    }\n",
       "\n",
       "    .dataframe thead th {\n",
       "        text-align: right;\n",
       "    }\n",
       "</style>\n",
       "<table border=\"1\" class=\"dataframe\">\n",
       "  <thead>\n",
       "    <tr style=\"text-align: right;\">\n",
       "      <th></th>\n",
       "      <th>duration_sec</th>\n",
       "      <th>start_station_id</th>\n",
       "      <th>start_station_latitude</th>\n",
       "      <th>start_station_longitude</th>\n",
       "      <th>end_station_id</th>\n",
       "      <th>end_station_latitude</th>\n",
       "      <th>end_station_longitude</th>\n",
       "      <th>bike_id</th>\n",
       "      <th>member_birth_year</th>\n",
       "    </tr>\n",
       "  </thead>\n",
       "  <tbody>\n",
       "    <tr>\n",
       "      <th>count</th>\n",
       "      <td>183412.000000</td>\n",
       "      <td>183215.000000</td>\n",
       "      <td>183412.000000</td>\n",
       "      <td>183412.000000</td>\n",
       "      <td>183215.000000</td>\n",
       "      <td>183412.000000</td>\n",
       "      <td>183412.000000</td>\n",
       "      <td>183412.000000</td>\n",
       "      <td>175147.000000</td>\n",
       "    </tr>\n",
       "    <tr>\n",
       "      <th>mean</th>\n",
       "      <td>726.078435</td>\n",
       "      <td>138.590427</td>\n",
       "      <td>37.771223</td>\n",
       "      <td>-122.352664</td>\n",
       "      <td>136.249123</td>\n",
       "      <td>37.771427</td>\n",
       "      <td>-122.352250</td>\n",
       "      <td>4472.906375</td>\n",
       "      <td>1984.806437</td>\n",
       "    </tr>\n",
       "    <tr>\n",
       "      <th>std</th>\n",
       "      <td>1794.389780</td>\n",
       "      <td>111.778864</td>\n",
       "      <td>0.099581</td>\n",
       "      <td>0.117097</td>\n",
       "      <td>111.515131</td>\n",
       "      <td>0.099490</td>\n",
       "      <td>0.116673</td>\n",
       "      <td>1664.383394</td>\n",
       "      <td>10.116689</td>\n",
       "    </tr>\n",
       "    <tr>\n",
       "      <th>min</th>\n",
       "      <td>61.000000</td>\n",
       "      <td>3.000000</td>\n",
       "      <td>37.317298</td>\n",
       "      <td>-122.453704</td>\n",
       "      <td>3.000000</td>\n",
       "      <td>37.317298</td>\n",
       "      <td>-122.453704</td>\n",
       "      <td>11.000000</td>\n",
       "      <td>1878.000000</td>\n",
       "    </tr>\n",
       "    <tr>\n",
       "      <th>25%</th>\n",
       "      <td>325.000000</td>\n",
       "      <td>47.000000</td>\n",
       "      <td>37.770083</td>\n",
       "      <td>-122.412408</td>\n",
       "      <td>44.000000</td>\n",
       "      <td>37.770407</td>\n",
       "      <td>-122.411726</td>\n",
       "      <td>3777.000000</td>\n",
       "      <td>1980.000000</td>\n",
       "    </tr>\n",
       "    <tr>\n",
       "      <th>50%</th>\n",
       "      <td>514.000000</td>\n",
       "      <td>104.000000</td>\n",
       "      <td>37.780760</td>\n",
       "      <td>-122.398285</td>\n",
       "      <td>100.000000</td>\n",
       "      <td>37.781010</td>\n",
       "      <td>-122.398279</td>\n",
       "      <td>4958.000000</td>\n",
       "      <td>1987.000000</td>\n",
       "    </tr>\n",
       "    <tr>\n",
       "      <th>75%</th>\n",
       "      <td>796.000000</td>\n",
       "      <td>239.000000</td>\n",
       "      <td>37.797280</td>\n",
       "      <td>-122.286533</td>\n",
       "      <td>235.000000</td>\n",
       "      <td>37.797320</td>\n",
       "      <td>-122.288045</td>\n",
       "      <td>5502.000000</td>\n",
       "      <td>1992.000000</td>\n",
       "    </tr>\n",
       "    <tr>\n",
       "      <th>max</th>\n",
       "      <td>85444.000000</td>\n",
       "      <td>398.000000</td>\n",
       "      <td>37.880222</td>\n",
       "      <td>-121.874119</td>\n",
       "      <td>398.000000</td>\n",
       "      <td>37.880222</td>\n",
       "      <td>-121.874119</td>\n",
       "      <td>6645.000000</td>\n",
       "      <td>2001.000000</td>\n",
       "    </tr>\n",
       "  </tbody>\n",
       "</table>\n",
       "</div>"
      ],
      "text/plain": [
       "        duration_sec  start_station_id  start_station_latitude  \\\n",
       "count  183412.000000     183215.000000           183412.000000   \n",
       "mean      726.078435        138.590427               37.771223   \n",
       "std      1794.389780        111.778864                0.099581   \n",
       "min        61.000000          3.000000               37.317298   \n",
       "25%       325.000000         47.000000               37.770083   \n",
       "50%       514.000000        104.000000               37.780760   \n",
       "75%       796.000000        239.000000               37.797280   \n",
       "max     85444.000000        398.000000               37.880222   \n",
       "\n",
       "       start_station_longitude  end_station_id  end_station_latitude  \\\n",
       "count            183412.000000   183215.000000         183412.000000   \n",
       "mean               -122.352664      136.249123             37.771427   \n",
       "std                   0.117097      111.515131              0.099490   \n",
       "min                -122.453704        3.000000             37.317298   \n",
       "25%                -122.412408       44.000000             37.770407   \n",
       "50%                -122.398285      100.000000             37.781010   \n",
       "75%                -122.286533      235.000000             37.797320   \n",
       "max                -121.874119      398.000000             37.880222   \n",
       "\n",
       "       end_station_longitude        bike_id  member_birth_year  \n",
       "count          183412.000000  183412.000000      175147.000000  \n",
       "mean             -122.352250    4472.906375        1984.806437  \n",
       "std                 0.116673    1664.383394          10.116689  \n",
       "min              -122.453704      11.000000        1878.000000  \n",
       "25%              -122.411726    3777.000000        1980.000000  \n",
       "50%              -122.398279    4958.000000        1987.000000  \n",
       "75%              -122.288045    5502.000000        1992.000000  \n",
       "max              -121.874119    6645.000000        2001.000000  "
      ]
     },
     "execution_count": 94,
     "metadata": {},
     "output_type": "execute_result"
    }
   ],
   "source": [
    "ford_bike.describe()"
   ]
  },
  {
   "cell_type": "code",
   "execution_count": 95,
   "metadata": {},
   "outputs": [
    {
     "data": {
      "text/plain": [
       "duration_sec                  0\n",
       "start_time                    0\n",
       "end_time                      0\n",
       "start_station_id            197\n",
       "start_station_name          197\n",
       "start_station_latitude        0\n",
       "start_station_longitude       0\n",
       "end_station_id              197\n",
       "end_station_name            197\n",
       "end_station_latitude          0\n",
       "end_station_longitude         0\n",
       "bike_id                       0\n",
       "user_type                     0\n",
       "member_birth_year          8265\n",
       "member_gender              8265\n",
       "bike_share_for_all_trip       0\n",
       "dtype: int64"
      ]
     },
     "execution_count": 95,
     "metadata": {},
     "output_type": "execute_result"
    }
   ],
   "source": [
    "#Checking total null values\n",
    "ford_bike.isna().sum()"
   ]
  },
  {
   "cell_type": "markdown",
   "metadata": {},
   "source": [
    "#### Member birth year and Gender have significant missing values"
   ]
  },
  {
   "cell_type": "code",
   "execution_count": 96,
   "metadata": {},
   "outputs": [
    {
     "data": {
      "text/plain": [
       "duration_sec                 4752\n",
       "start_time                 183401\n",
       "end_time                   183397\n",
       "start_station_id              329\n",
       "start_station_name            329\n",
       "start_station_latitude        334\n",
       "start_station_longitude       335\n",
       "end_station_id                329\n",
       "end_station_name              329\n",
       "end_station_latitude          335\n",
       "end_station_longitude         335\n",
       "bike_id                      4646\n",
       "user_type                       2\n",
       "member_birth_year              75\n",
       "member_gender                   3\n",
       "bike_share_for_all_trip         2\n",
       "dtype: int64"
      ]
     },
     "execution_count": 96,
     "metadata": {},
     "output_type": "execute_result"
    }
   ],
   "source": [
    "#Checking the unique values in the dataset\n",
    "ford_bike.nunique()"
   ]
  },
  {
   "cell_type": "code",
   "execution_count": 97,
   "metadata": {},
   "outputs": [
    {
     "data": {
      "text/plain": [
       "0"
      ]
     },
     "execution_count": 97,
     "metadata": {},
     "output_type": "execute_result"
    }
   ],
   "source": [
    "#Checking number of duplicated entries\n",
    "ford_bike.duplicated().sum()"
   ]
  },
  {
   "cell_type": "code",
   "execution_count": 98,
   "metadata": {},
   "outputs": [
    {
     "data": {
      "text/plain": [
       "str"
      ]
     },
     "execution_count": 98,
     "metadata": {},
     "output_type": "execute_result"
    }
   ],
   "source": [
    "#Checking data types for start_time\n",
    "type(ford_bike['start_time'][0])\n",
    "\n"
   ]
  },
  {
   "cell_type": "code",
   "execution_count": 99,
   "metadata": {},
   "outputs": [
    {
     "data": {
      "text/plain": [
       "str"
      ]
     },
     "execution_count": 99,
     "metadata": {},
     "output_type": "execute_result"
    }
   ],
   "source": [
    "#Checking data types for end_time\n",
    "type(ford_bike['end_time'][0])"
   ]
  },
  {
   "cell_type": "code",
   "execution_count": 100,
   "metadata": {},
   "outputs": [
    {
     "data": {
      "text/plain": [
       "str"
      ]
     },
     "execution_count": 100,
     "metadata": {},
     "output_type": "execute_result"
    }
   ],
   "source": [
    "#Checking data types for user_type\n",
    "type(ford_bike['user_type'][0])"
   ]
  },
  {
   "cell_type": "code",
   "execution_count": 101,
   "metadata": {},
   "outputs": [
    {
     "data": {
      "text/plain": [
       "str"
      ]
     },
     "execution_count": 101,
     "metadata": {},
     "output_type": "execute_result"
    }
   ],
   "source": [
    "#Checking data types for bike_share_for_all_trip\n",
    "type(ford_bike['bike_share_for_all_trip'][0])"
   ]
  },
  {
   "cell_type": "markdown",
   "metadata": {},
   "source": [
    "## Quality Issues\n",
    "1.) start_time and end_time are strings\n",
    "2.) start_station_id and end_station_id are floats\n",
    "3.) bike_id is an integer\n",
    "4.) user_type is a string\n",
    "5.) member_gender is a string\n",
    "6.) Date and time are combined to one column"
   ]
  },
  {
   "cell_type": "markdown",
   "metadata": {},
   "source": [
    "## Tidiness Issues\n",
    "Month and day of the start_time are not clear"
   ]
  },
  {
   "cell_type": "markdown",
   "metadata": {},
   "source": [
    "## Cleaning Data"
   ]
  },
  {
   "cell_type": "code",
   "execution_count": 102,
   "metadata": {},
   "outputs": [],
   "source": [
    "#make a copy of the ford_bike dataset\n",
    "ford_bike_clean = ford_bike.copy()"
   ]
  },
  {
   "cell_type": "code",
   "execution_count": 103,
   "metadata": {},
   "outputs": [
    {
     "data": {
      "text/html": [
       "<div>\n",
       "<style scoped>\n",
       "    .dataframe tbody tr th:only-of-type {\n",
       "        vertical-align: middle;\n",
       "    }\n",
       "\n",
       "    .dataframe tbody tr th {\n",
       "        vertical-align: top;\n",
       "    }\n",
       "\n",
       "    .dataframe thead th {\n",
       "        text-align: right;\n",
       "    }\n",
       "</style>\n",
       "<table border=\"1\" class=\"dataframe\">\n",
       "  <thead>\n",
       "    <tr style=\"text-align: right;\">\n",
       "      <th></th>\n",
       "      <th>duration_sec</th>\n",
       "      <th>start_time</th>\n",
       "      <th>end_time</th>\n",
       "      <th>start_station_id</th>\n",
       "      <th>start_station_name</th>\n",
       "      <th>start_station_latitude</th>\n",
       "      <th>start_station_longitude</th>\n",
       "      <th>end_station_id</th>\n",
       "      <th>end_station_name</th>\n",
       "      <th>end_station_latitude</th>\n",
       "      <th>end_station_longitude</th>\n",
       "      <th>bike_id</th>\n",
       "      <th>user_type</th>\n",
       "      <th>member_birth_year</th>\n",
       "      <th>member_gender</th>\n",
       "      <th>bike_share_for_all_trip</th>\n",
       "    </tr>\n",
       "  </thead>\n",
       "  <tbody>\n",
       "    <tr>\n",
       "      <th>173321</th>\n",
       "      <td>655</td>\n",
       "      <td>2019-02-03 12:03:01.6400</td>\n",
       "      <td>2019-02-03 12:13:57.3160</td>\n",
       "      <td>276.0</td>\n",
       "      <td>Julian St at The Alameda</td>\n",
       "      <td>37.332233</td>\n",
       "      <td>-121.912516</td>\n",
       "      <td>311.0</td>\n",
       "      <td>Paseo De San Antonio at 2nd St</td>\n",
       "      <td>37.333798</td>\n",
       "      <td>-121.886943</td>\n",
       "      <td>4044</td>\n",
       "      <td>Subscriber</td>\n",
       "      <td>1993.0</td>\n",
       "      <td>Male</td>\n",
       "      <td>Yes</td>\n",
       "    </tr>\n",
       "    <tr>\n",
       "      <th>33705</th>\n",
       "      <td>479</td>\n",
       "      <td>2019-02-24 10:52:43.0640</td>\n",
       "      <td>2019-02-24 11:00:42.6770</td>\n",
       "      <td>114.0</td>\n",
       "      <td>Rhode Island St at 17th St</td>\n",
       "      <td>37.764478</td>\n",
       "      <td>-122.402570</td>\n",
       "      <td>355.0</td>\n",
       "      <td>23rd St at Tennessee St</td>\n",
       "      <td>37.755367</td>\n",
       "      <td>-122.388795</td>\n",
       "      <td>5228</td>\n",
       "      <td>Customer</td>\n",
       "      <td>1993.0</td>\n",
       "      <td>Male</td>\n",
       "      <td>No</td>\n",
       "    </tr>\n",
       "    <tr>\n",
       "      <th>91320</th>\n",
       "      <td>1643</td>\n",
       "      <td>2019-02-16 08:56:42.4270</td>\n",
       "      <td>2019-02-16 09:24:06.3170</td>\n",
       "      <td>385.0</td>\n",
       "      <td>Woolsey St at Sacramento St</td>\n",
       "      <td>37.850578</td>\n",
       "      <td>-122.278175</td>\n",
       "      <td>385.0</td>\n",
       "      <td>Woolsey St at Sacramento St</td>\n",
       "      <td>37.850578</td>\n",
       "      <td>-122.278175</td>\n",
       "      <td>562</td>\n",
       "      <td>Customer</td>\n",
       "      <td>1997.0</td>\n",
       "      <td>Female</td>\n",
       "      <td>No</td>\n",
       "    </tr>\n",
       "    <tr>\n",
       "      <th>10806</th>\n",
       "      <td>770</td>\n",
       "      <td>2019-02-27 19:32:39.1080</td>\n",
       "      <td>2019-02-27 19:45:29.1110</td>\n",
       "      <td>89.0</td>\n",
       "      <td>Division St at Potrero Ave</td>\n",
       "      <td>37.769218</td>\n",
       "      <td>-122.407646</td>\n",
       "      <td>108.0</td>\n",
       "      <td>16th St Mission BART</td>\n",
       "      <td>37.764710</td>\n",
       "      <td>-122.419957</td>\n",
       "      <td>6077</td>\n",
       "      <td>Subscriber</td>\n",
       "      <td>1994.0</td>\n",
       "      <td>Male</td>\n",
       "      <td>No</td>\n",
       "    </tr>\n",
       "    <tr>\n",
       "      <th>182930</th>\n",
       "      <td>811</td>\n",
       "      <td>2019-02-01 07:26:22.5300</td>\n",
       "      <td>2019-02-01 07:39:54.2880</td>\n",
       "      <td>93.0</td>\n",
       "      <td>4th St at Mission Bay Blvd S</td>\n",
       "      <td>37.770407</td>\n",
       "      <td>-122.391198</td>\n",
       "      <td>15.0</td>\n",
       "      <td>San Francisco Ferry Building (Harry Bridges Pl...</td>\n",
       "      <td>37.795392</td>\n",
       "      <td>-122.394203</td>\n",
       "      <td>3237</td>\n",
       "      <td>Subscriber</td>\n",
       "      <td>1985.0</td>\n",
       "      <td>Male</td>\n",
       "      <td>No</td>\n",
       "    </tr>\n",
       "  </tbody>\n",
       "</table>\n",
       "</div>"
      ],
      "text/plain": [
       "        duration_sec                start_time                  end_time  \\\n",
       "173321           655  2019-02-03 12:03:01.6400  2019-02-03 12:13:57.3160   \n",
       "33705            479  2019-02-24 10:52:43.0640  2019-02-24 11:00:42.6770   \n",
       "91320           1643  2019-02-16 08:56:42.4270  2019-02-16 09:24:06.3170   \n",
       "10806            770  2019-02-27 19:32:39.1080  2019-02-27 19:45:29.1110   \n",
       "182930           811  2019-02-01 07:26:22.5300  2019-02-01 07:39:54.2880   \n",
       "\n",
       "        start_station_id            start_station_name  \\\n",
       "173321             276.0      Julian St at The Alameda   \n",
       "33705              114.0    Rhode Island St at 17th St   \n",
       "91320              385.0   Woolsey St at Sacramento St   \n",
       "10806               89.0    Division St at Potrero Ave   \n",
       "182930              93.0  4th St at Mission Bay Blvd S   \n",
       "\n",
       "        start_station_latitude  start_station_longitude  end_station_id  \\\n",
       "173321               37.332233              -121.912516           311.0   \n",
       "33705                37.764478              -122.402570           355.0   \n",
       "91320                37.850578              -122.278175           385.0   \n",
       "10806                37.769218              -122.407646           108.0   \n",
       "182930               37.770407              -122.391198            15.0   \n",
       "\n",
       "                                         end_station_name  \\\n",
       "173321                     Paseo De San Antonio at 2nd St   \n",
       "33705                             23rd St at Tennessee St   \n",
       "91320                         Woolsey St at Sacramento St   \n",
       "10806                                16th St Mission BART   \n",
       "182930  San Francisco Ferry Building (Harry Bridges Pl...   \n",
       "\n",
       "        end_station_latitude  end_station_longitude  bike_id   user_type  \\\n",
       "173321             37.333798            -121.886943     4044  Subscriber   \n",
       "33705              37.755367            -122.388795     5228    Customer   \n",
       "91320              37.850578            -122.278175      562    Customer   \n",
       "10806              37.764710            -122.419957     6077  Subscriber   \n",
       "182930             37.795392            -122.394203     3237  Subscriber   \n",
       "\n",
       "        member_birth_year member_gender bike_share_for_all_trip  \n",
       "173321             1993.0          Male                     Yes  \n",
       "33705              1993.0          Male                      No  \n",
       "91320              1997.0        Female                      No  \n",
       "10806              1994.0          Male                      No  \n",
       "182930             1985.0          Male                      No  "
      ]
     },
     "execution_count": 103,
     "metadata": {},
     "output_type": "execute_result"
    }
   ],
   "source": [
    "ford_bike_clean.sample(5)"
   ]
  },
  {
   "cell_type": "markdown",
   "metadata": {},
   "source": [
    "#### Define: Changing the data type for start_time, end_time,start_station_id,end_station_id,bike_id,user_type,member_gender"
   ]
  },
  {
   "cell_type": "markdown",
   "metadata": {},
   "source": [
    "#### Code"
   ]
  },
  {
   "cell_type": "code",
   "execution_count": 104,
   "metadata": {},
   "outputs": [],
   "source": [
    "ford_bike_clean.start_time = pd.to_datetime(ford_bike_clean.start_time, yearfirst=True)\n",
    "ford_bike_clean.end_time = pd.to_datetime(ford_bike_clean.end_time, yearfirst=True)\n",
    "ford_bike_clean.start_station_id = ford_bike_clean.start_station_id.astype(str)\n",
    "ford_bike_clean.end_station_id = ford_bike_clean.end_station_id.astype(str)\n",
    "ford_bike_clean.bike_id = ford_bike_clean.bike_id.astype(str)\n",
    "ford_bike_clean.member_gender = ford_bike_clean.member_gender.astype('category')\n",
    "ford_bike_clean.user_type = ford_bike_clean.user_type.astype('category')\n",
    "\n"
   ]
  },
  {
   "cell_type": "markdown",
   "metadata": {},
   "source": [
    "#### Test"
   ]
  },
  {
   "cell_type": "code",
   "execution_count": 105,
   "metadata": {},
   "outputs": [
    {
     "name": "stdout",
     "output_type": "stream",
     "text": [
      "<class 'pandas.core.frame.DataFrame'>\n",
      "RangeIndex: 183412 entries, 0 to 183411\n",
      "Data columns (total 16 columns):\n",
      " #   Column                   Non-Null Count   Dtype         \n",
      "---  ------                   --------------   -----         \n",
      " 0   duration_sec             183412 non-null  int64         \n",
      " 1   start_time               183412 non-null  datetime64[ns]\n",
      " 2   end_time                 183412 non-null  datetime64[ns]\n",
      " 3   start_station_id         183412 non-null  object        \n",
      " 4   start_station_name       183215 non-null  object        \n",
      " 5   start_station_latitude   183412 non-null  float64       \n",
      " 6   start_station_longitude  183412 non-null  float64       \n",
      " 7   end_station_id           183412 non-null  object        \n",
      " 8   end_station_name         183215 non-null  object        \n",
      " 9   end_station_latitude     183412 non-null  float64       \n",
      " 10  end_station_longitude    183412 non-null  float64       \n",
      " 11  bike_id                  183412 non-null  object        \n",
      " 12  user_type                183412 non-null  category      \n",
      " 13  member_birth_year        175147 non-null  float64       \n",
      " 14  member_gender            175147 non-null  category      \n",
      " 15  bike_share_for_all_trip  183412 non-null  object        \n",
      "dtypes: category(2), datetime64[ns](2), float64(5), int64(1), object(6)\n",
      "memory usage: 19.9+ MB\n"
     ]
    }
   ],
   "source": [
    "ford_bike_clean.info()"
   ]
  },
  {
   "cell_type": "markdown",
   "metadata": {},
   "source": [
    "#### Define \n",
    "Separating month and day from the start_time column for better analysis"
   ]
  },
  {
   "cell_type": "markdown",
   "metadata": {},
   "source": [
    "#### Code"
   ]
  },
  {
   "cell_type": "code",
   "execution_count": 106,
   "metadata": {},
   "outputs": [],
   "source": [
    "\n",
    "ford_bike_clean['day_of_the_week'] = ford_bike_clean['start_time'].dt.day_name()\n",
    "ford_bike_clean['hour'] = ford_bike_clean['start_time'].dt.hour\n",
    "\n"
   ]
  },
  {
   "cell_type": "markdown",
   "metadata": {},
   "source": [
    "#### Test"
   ]
  },
  {
   "cell_type": "code",
   "execution_count": 107,
   "metadata": {},
   "outputs": [
    {
     "data": {
      "text/html": [
       "<div>\n",
       "<style scoped>\n",
       "    .dataframe tbody tr th:only-of-type {\n",
       "        vertical-align: middle;\n",
       "    }\n",
       "\n",
       "    .dataframe tbody tr th {\n",
       "        vertical-align: top;\n",
       "    }\n",
       "\n",
       "    .dataframe thead th {\n",
       "        text-align: right;\n",
       "    }\n",
       "</style>\n",
       "<table border=\"1\" class=\"dataframe\">\n",
       "  <thead>\n",
       "    <tr style=\"text-align: right;\">\n",
       "      <th></th>\n",
       "      <th>duration_sec</th>\n",
       "      <th>start_time</th>\n",
       "      <th>end_time</th>\n",
       "      <th>start_station_id</th>\n",
       "      <th>start_station_name</th>\n",
       "      <th>start_station_latitude</th>\n",
       "      <th>start_station_longitude</th>\n",
       "      <th>end_station_id</th>\n",
       "      <th>end_station_name</th>\n",
       "      <th>end_station_latitude</th>\n",
       "      <th>end_station_longitude</th>\n",
       "      <th>bike_id</th>\n",
       "      <th>user_type</th>\n",
       "      <th>member_birth_year</th>\n",
       "      <th>member_gender</th>\n",
       "      <th>bike_share_for_all_trip</th>\n",
       "      <th>day_of_the_week</th>\n",
       "      <th>hour</th>\n",
       "    </tr>\n",
       "  </thead>\n",
       "  <tbody>\n",
       "    <tr>\n",
       "      <th>0</th>\n",
       "      <td>52185</td>\n",
       "      <td>2019-02-28 17:32:10.145</td>\n",
       "      <td>2019-03-01 08:01:55.975</td>\n",
       "      <td>21.0</td>\n",
       "      <td>Montgomery St BART Station (Market St at 2nd St)</td>\n",
       "      <td>37.789625</td>\n",
       "      <td>-122.400811</td>\n",
       "      <td>13.0</td>\n",
       "      <td>Commercial St at Montgomery St</td>\n",
       "      <td>37.794231</td>\n",
       "      <td>-122.402923</td>\n",
       "      <td>4902</td>\n",
       "      <td>Customer</td>\n",
       "      <td>1984.0</td>\n",
       "      <td>Male</td>\n",
       "      <td>No</td>\n",
       "      <td>Thursday</td>\n",
       "      <td>17</td>\n",
       "    </tr>\n",
       "    <tr>\n",
       "      <th>1</th>\n",
       "      <td>42521</td>\n",
       "      <td>2019-02-28 18:53:21.789</td>\n",
       "      <td>2019-03-01 06:42:03.056</td>\n",
       "      <td>23.0</td>\n",
       "      <td>The Embarcadero at Steuart St</td>\n",
       "      <td>37.791464</td>\n",
       "      <td>-122.391034</td>\n",
       "      <td>81.0</td>\n",
       "      <td>Berry St at 4th St</td>\n",
       "      <td>37.775880</td>\n",
       "      <td>-122.393170</td>\n",
       "      <td>2535</td>\n",
       "      <td>Customer</td>\n",
       "      <td>NaN</td>\n",
       "      <td>NaN</td>\n",
       "      <td>No</td>\n",
       "      <td>Thursday</td>\n",
       "      <td>18</td>\n",
       "    </tr>\n",
       "    <tr>\n",
       "      <th>2</th>\n",
       "      <td>61854</td>\n",
       "      <td>2019-02-28 12:13:13.218</td>\n",
       "      <td>2019-03-01 05:24:08.146</td>\n",
       "      <td>86.0</td>\n",
       "      <td>Market St at Dolores St</td>\n",
       "      <td>37.769305</td>\n",
       "      <td>-122.426826</td>\n",
       "      <td>3.0</td>\n",
       "      <td>Powell St BART Station (Market St at 4th St)</td>\n",
       "      <td>37.786375</td>\n",
       "      <td>-122.404904</td>\n",
       "      <td>5905</td>\n",
       "      <td>Customer</td>\n",
       "      <td>1972.0</td>\n",
       "      <td>Male</td>\n",
       "      <td>No</td>\n",
       "      <td>Thursday</td>\n",
       "      <td>12</td>\n",
       "    </tr>\n",
       "    <tr>\n",
       "      <th>3</th>\n",
       "      <td>36490</td>\n",
       "      <td>2019-02-28 17:54:26.010</td>\n",
       "      <td>2019-03-01 04:02:36.842</td>\n",
       "      <td>375.0</td>\n",
       "      <td>Grove St at Masonic Ave</td>\n",
       "      <td>37.774836</td>\n",
       "      <td>-122.446546</td>\n",
       "      <td>70.0</td>\n",
       "      <td>Central Ave at Fell St</td>\n",
       "      <td>37.773311</td>\n",
       "      <td>-122.444293</td>\n",
       "      <td>6638</td>\n",
       "      <td>Subscriber</td>\n",
       "      <td>1989.0</td>\n",
       "      <td>Other</td>\n",
       "      <td>No</td>\n",
       "      <td>Thursday</td>\n",
       "      <td>17</td>\n",
       "    </tr>\n",
       "    <tr>\n",
       "      <th>4</th>\n",
       "      <td>1585</td>\n",
       "      <td>2019-02-28 23:54:18.549</td>\n",
       "      <td>2019-03-01 00:20:44.074</td>\n",
       "      <td>7.0</td>\n",
       "      <td>Frank H Ogawa Plaza</td>\n",
       "      <td>37.804562</td>\n",
       "      <td>-122.271738</td>\n",
       "      <td>222.0</td>\n",
       "      <td>10th Ave at E 15th St</td>\n",
       "      <td>37.792714</td>\n",
       "      <td>-122.248780</td>\n",
       "      <td>4898</td>\n",
       "      <td>Subscriber</td>\n",
       "      <td>1974.0</td>\n",
       "      <td>Male</td>\n",
       "      <td>Yes</td>\n",
       "      <td>Thursday</td>\n",
       "      <td>23</td>\n",
       "    </tr>\n",
       "  </tbody>\n",
       "</table>\n",
       "</div>"
      ],
      "text/plain": [
       "   duration_sec              start_time                end_time  \\\n",
       "0         52185 2019-02-28 17:32:10.145 2019-03-01 08:01:55.975   \n",
       "1         42521 2019-02-28 18:53:21.789 2019-03-01 06:42:03.056   \n",
       "2         61854 2019-02-28 12:13:13.218 2019-03-01 05:24:08.146   \n",
       "3         36490 2019-02-28 17:54:26.010 2019-03-01 04:02:36.842   \n",
       "4          1585 2019-02-28 23:54:18.549 2019-03-01 00:20:44.074   \n",
       "\n",
       "  start_station_id                                start_station_name  \\\n",
       "0             21.0  Montgomery St BART Station (Market St at 2nd St)   \n",
       "1             23.0                     The Embarcadero at Steuart St   \n",
       "2             86.0                           Market St at Dolores St   \n",
       "3            375.0                           Grove St at Masonic Ave   \n",
       "4              7.0                               Frank H Ogawa Plaza   \n",
       "\n",
       "   start_station_latitude  start_station_longitude end_station_id  \\\n",
       "0               37.789625              -122.400811           13.0   \n",
       "1               37.791464              -122.391034           81.0   \n",
       "2               37.769305              -122.426826            3.0   \n",
       "3               37.774836              -122.446546           70.0   \n",
       "4               37.804562              -122.271738          222.0   \n",
       "\n",
       "                               end_station_name  end_station_latitude  \\\n",
       "0                Commercial St at Montgomery St             37.794231   \n",
       "1                            Berry St at 4th St             37.775880   \n",
       "2  Powell St BART Station (Market St at 4th St)             37.786375   \n",
       "3                        Central Ave at Fell St             37.773311   \n",
       "4                         10th Ave at E 15th St             37.792714   \n",
       "\n",
       "   end_station_longitude bike_id   user_type  member_birth_year member_gender  \\\n",
       "0            -122.402923    4902    Customer             1984.0          Male   \n",
       "1            -122.393170    2535    Customer                NaN           NaN   \n",
       "2            -122.404904    5905    Customer             1972.0          Male   \n",
       "3            -122.444293    6638  Subscriber             1989.0         Other   \n",
       "4            -122.248780    4898  Subscriber             1974.0          Male   \n",
       "\n",
       "  bike_share_for_all_trip day_of_the_week  hour  \n",
       "0                      No        Thursday    17  \n",
       "1                      No        Thursday    18  \n",
       "2                      No        Thursday    12  \n",
       "3                      No        Thursday    17  \n",
       "4                     Yes        Thursday    23  "
      ]
     },
     "execution_count": 107,
     "metadata": {},
     "output_type": "execute_result"
    }
   ],
   "source": [
    "ford_bike_clean.head(5)"
   ]
  },
  {
   "cell_type": "markdown",
   "metadata": {},
   "source": [
    "## What is the structure of the dataset:\n",
    "The dataset has 183412 rows and 16 columns.  Some columns have missing data like: start_station_id, start_station_name , end_station_id, end_station_name, member_birth_year, member_gender \n",
    "\n",
    "\n",
    "## What is/are the main features of interest in your dataset:\n",
    "duration_sec, start_time\n",
    "## What features in the dataset do you think will help support your investigation into your features of interest?\n",
    "user_type will assist in categorizing the analysis in terms of subscribers and customers , start_station_name  and end_station_name will assist in knowing the location. member_gender has missing values but can assist to some level in categorizing in terms of gender, bike_share_for_all_trip,"
   ]
  },
  {
   "cell_type": "markdown",
   "metadata": {},
   "source": [
    "## Univariate Exploration\n"
   ]
  },
  {
   "cell_type": "code",
   "execution_count": 108,
   "metadata": {},
   "outputs": [],
   "source": [
    "#Defining a function to label x-y axis and title\n",
    "def label(x, y, t):\n",
    "    \"\"\"\n",
    "    x(str): x-axis title\n",
    "    y(str): y-axis title\n",
    "    t(str): main title\n",
    "    Returns:\n",
    "    None\n",
    "    \"\"\"\n",
    "    plt.xlabel(x)\n",
    "    plt.ylabel(y)\n",
    "    plt.title(t)\n",
    "    plt.show()"
   ]
  },
  {
   "cell_type": "code",
   "execution_count": 109,
   "metadata": {},
   "outputs": [
    {
     "data": {
      "image/png": "[encoded data removed]",
      "text/plain": [
       "<Figure size 720x432 with 1 Axes>"
      ]
     },
     "metadata": {
      "needs_background": "light"
     },
     "output_type": "display_data"
    }
   ],
   "source": [
    "#Plotting a bar chart to visualize the bike users based on user_type (Customers,Subscribers)\n",
    "plt.figure(figsize=(10,6))     \n",
    "base_color = sns.color_palette()[0]\n",
    "ax = sns.countplot(data=ford_bike_clean, x ='user_type', color=base_color)\n",
    "cat_counts = ford_bike_clean['user_type'].value_counts()\n",
    "plt.title('Bike Users By User Type')\n",
    "n_points = ford_bike_clean.shape[0]\n",
    "label(\"User Type\",\"Number of Bike Users\",\"Bike Users By User Type\")"
   ]
  },
  {
   "cell_type": "markdown",
   "metadata": {},
   "source": [
    "#### Majority of the bike users are Subscribers"
   ]
  },
  {
   "cell_type": "code",
   "execution_count": 110,
   "metadata": {},
   "outputs": [
    {
     "data": {
      "image/png": "[encoded data removed]",
      "text/plain": [
       "<Figure size 720x432 with 1 Axes>"
      ]
     },
     "metadata": {
      "needs_background": "light"
     },
     "output_type": "display_data"
    }
   ],
   "source": [
    "#Plotting a bar chart to visualize the bike users based on gender\n",
    "plt.figure(figsize=(10,6))     \n",
    "base_color = sns.color_palette()[0]\n",
    "ax = sns.countplot(data=ford_bike_clean, x ='member_gender', color=base_color)\n",
    "cat_counts = ford_bike_clean['member_gender'].value_counts()\n",
    "plt.title('Bike Users By Gender')\n",
    "n_points = ford_bike_clean.shape[0]\n",
    "label(\"Gender\",\"Number of Bike Users\",\"Bike Users By Gender\")"
   ]
  },
  {
   "cell_type": "code",
   "execution_count": 111,
   "metadata": {},
   "outputs": [
    {
     "data": {
      "text/plain": [
       "Text(0.5, 1.0, 'Bike User Type by Percentage')"
      ]
     },
     "execution_count": 111,
     "metadata": {},
     "output_type": "execute_result"
    },
    {
     "data": {
      "image/png": "[encoded data removed]",
      "text/plain": [
       "<Figure size 720x432 with 1 Axes>"
      ]
     },
     "metadata": {},
     "output_type": "display_data"
    }
   ],
   "source": [
    "#Plotting a pie chart to show bike user_type by percentage\n",
    "plt.figure(figsize=(10,6))\n",
    "sorted_counts = ford_bike_clean['user_type'].value_counts()\n",
    "plt.pie(sorted_counts, labels = sorted_counts.index, startangle = 90, counterclock = False,autopct='%1.2f%%');\n",
    "plt.axis('square')\n",
    "plt.title('Bike User Type by Percentage',fontsize = 14)"
   ]
  },
  {
   "cell_type": "markdown",
   "metadata": {},
   "source": [
    "#### Subsribers seem to be the majority of the bike users-89%"
   ]
  },
  {
   "cell_type": "code",
   "execution_count": 112,
   "metadata": {},
   "outputs": [
    {
     "data": {
      "text/plain": [
       "Text(0.5, 1.0, 'Bike Gender by Percentage')"
      ]
     },
     "execution_count": 112,
     "metadata": {},
     "output_type": "execute_result"
    },
    {
     "data": {
      "image/png": "[encoded data removed]",
      "text/plain": [
       "<Figure size 720x432 with 1 Axes>"
      ]
     },
     "metadata": {},
     "output_type": "display_data"
    }
   ],
   "source": [
    "#Plotting a pie chart to show bike member_gender by percentage\n",
    "plt.figure(figsize=(10,6))\n",
    "sorted_counts = ford_bike_clean['member_gender'].value_counts()\n",
    "plt.pie(sorted_counts, labels = sorted_counts.index, startangle = 90, counterclock = False,autopct='%1.2f%%');\n",
    "plt.axis('square')\n",
    "plt.title('Bike Gender by Percentage',fontsize = 14)"
   ]
  },
  {
   "cell_type": "markdown",
   "metadata": {},
   "source": [
    "#### Seems like the males are the main customers-75%"
   ]
  },
  {
   "cell_type": "code",
   "execution_count": 113,
   "metadata": {},
   "outputs": [
    {
     "data": {
      "text/plain": [
       "''"
      ]
     },
     "execution_count": 113,
     "metadata": {},
     "output_type": "execute_result"
    },
    {
     "data": {
      "image/png": "[encoded data removed]",
      "text/plain": [
       "<Figure size 720x432 with 1 Axes>"
      ]
     },
     "metadata": {
      "needs_background": "light"
     },
     "output_type": "display_data"
    }
   ],
   "source": [
    "#Checking the distribution of duration\n",
    "plt.figure(figsize=(10,6))\n",
    "bins = np.arange(0, 12000, 100)\n",
    "\n",
    "plt.hist(data = ford_bike_clean, x ='duration_sec', bins=bins)\n",
    ";"
   ]
  },
  {
   "cell_type": "markdown",
   "metadata": {},
   "source": [
    "#### duration_sec data is skewed to the right"
   ]
  },
  {
   "cell_type": "code",
   "execution_count": 114,
   "metadata": {},
   "outputs": [
    {
     "data": {
      "image/png": "[encoded data removed]",
      "text/plain": [
       "<Figure size 720x432 with 1 Axes>"
      ]
     },
     "metadata": {
      "needs_background": "light"
     },
     "output_type": "display_data"
    }
   ],
   "source": [
    "#Checking the distribution of duration after log transformation\n",
    "plt.figure(figsize=(10,6))\n",
    "ticks = [30, 100, 300, 1000]\n",
    "labels = ['{}'.format(v) for v in ticks]\n",
    "bins = 10**np.arange(-1, 3+0.1, 0.1)\n",
    "plt.hist(data = ford_bike_clean, x ='duration_sec', bins=bins)\n",
    "plt.xscale('log')\n",
    "plt.xticks(ticks, labels)\n",
    "label(\"Number of Bike Users\",\"Duration(Sec)\",\"Duration With The Bike Distribution\");"
   ]
  },
  {
   "cell_type": "code",
   "execution_count": 115,
   "metadata": {},
   "outputs": [
    {
     "data": {
      "image/png": "[encoded data removed]",
      "text/plain": [
       "<Figure size 720x432 with 1 Axes>"
      ]
     },
     "metadata": {
      "needs_background": "light"
     },
     "output_type": "display_data"
    }
   ],
   "source": [
    "#Plotting a bar chart to visualize the bike users based on day_of_the_week\n",
    "day = ['Monday','Tuesday','Wednesday','Thursday','Friday','Saturday','Sunday']\n",
    "plt.figure(figsize=(10,6))     \n",
    "base_color = sns.color_palette()[0]\n",
    "ax = sns.countplot(data=ford_bike_clean, x ='day_of_the_week', color=base_color, order=day)\n",
    "cat_counts = ford_bike_clean['day_of_the_week'].value_counts()\n",
    "n_points = ford_bike_clean.shape[0]\n",
    "label(\"Days of the week\",\"Number of Bike Users\",\"Bike Users by Day of the week\")"
   ]
  },
  {
   "cell_type": "markdown",
   "metadata": {},
   "source": [
    "####  Seems the bikes are mostly used during the weekdays than weekends. Tuesdays and Thursdays as the peak days"
   ]
  },
  {
   "cell_type": "code",
   "execution_count": 116,
   "metadata": {},
   "outputs": [
    {
     "data": {
      "image/png": "[encoded data removed]",
      "text/plain": [
       "<Figure size 720x432 with 1 Axes>"
      ]
     },
     "metadata": {
      "needs_background": "light"
     },
     "output_type": "display_data"
    }
   ],
   "source": [
    "#Plotting a bar chart to visualize the bike users based on the hour of the day\n",
    "hour = np.arange(0,24)\n",
    "plt.figure(figsize=(10,6))     \n",
    "base_color = sns.color_palette()[0]\n",
    "ax = sns.countplot(data=ford_bike_clean, x ='hour', color=base_color, order=hour)\n",
    "cat_counts = ford_bike_clean['hour'].value_counts()\n",
    "n_points = ford_bike_clean.shape[0]\n",
    "label(\"Hour of the day\",\"Number of Bike Users\",'Bike Users By Hour')"
   ]
  },
  {
   "cell_type": "markdown",
   "metadata": {},
   "source": [
    "#### Seems the most busy hours are 8am and 5pm. Possible it is when people are going to work and leaving from work to home"
   ]
  },
  {
   "cell_type": "code",
   "execution_count": 117,
   "metadata": {},
   "outputs": [
    {
     "data": {
      "image/png": "[encoded data removed]",
      "text/plain": [
       "<Figure size 720x432 with 1 Axes>"
      ]
     },
     "metadata": {
      "needs_background": "light"
     },
     "output_type": "display_data"
    }
   ],
   "source": [
    "#Plotting a bar chart to visualize the bike users based on bike_share_for_all_trip\n",
    "plt.figure(figsize=(10,6))     \n",
    "base_color = sns.color_palette()[0]\n",
    "ax = sns.countplot(data=ford_bike_clean, x ='bike_share_for_all_trip', color=base_color)\n",
    "cat_counts = ford_bike_clean['bike_share_for_all_trip'].value_counts()\n",
    "n_points = ford_bike_clean.shape[0]\n",
    "label(\"Shared Trips (Yes/No)\",\"Number of Bike Users\",'Bike Users Shared Trips');\n"
   ]
  },
  {
   "cell_type": "markdown",
   "metadata": {},
   "source": [
    "#### Majority of the bike users do not share trips"
   ]
  },
  {
   "cell_type": "code",
   "execution_count": 118,
   "metadata": {},
   "outputs": [
    {
     "data": {
      "text/plain": [
       "Text(0.5, 1.0, 'Bike Gender by Shared Trips')"
      ]
     },
     "execution_count": 118,
     "metadata": {},
     "output_type": "execute_result"
    },
    {
     "data": {
      "image/png": "[encoded data removed]",
      "text/plain": [
       "<Figure size 720x432 with 1 Axes>"
      ]
     },
     "metadata": {},
     "output_type": "display_data"
    }
   ],
   "source": [
    "#Plotting a pie chart to show Shared Trips by percentage\n",
    "plt.figure(figsize=(10,6))\n",
    "sorted_counts = ford_bike_clean['bike_share_for_all_trip'].value_counts()\n",
    "plt.pie(sorted_counts, labels = sorted_counts.index, startangle = 90, counterclock = False,autopct='%1.2f%%');\n",
    "plt.axis('square')\n",
    "plt.title('Bike Gender by Shared Trips',fontsize = 14)"
   ]
  },
  {
   "cell_type": "markdown",
   "metadata": {},
   "source": [
    "#### 91% of the trips were not shared trips"
   ]
  },
  {
   "cell_type": "markdown",
   "metadata": {},
   "source": [
    "### Discuss the distribution(s) of your variable(s) of interest. Were there any unusual points? Did you need to perform any transformations?\n",
    "\n",
    "Subscribers were 89% of the bike users. Males are 75% of the bike users. 91% of the trips were not shared trips. It seems most of the bike users use the bikes for commute. As I have observed the peak hours for bike usage is 8am and 5pm. Also, the bikes are mostly used during the week and there is a decline of users on the weekend. Log transformation was done when plotting the second distribution of bike duration.\n",
    "\n",
    "### Of the features you investigated, were there any unusual distributions? Did you perform any operations on the data to tidy, adjust, or change the form of the data? If so, why did you do this?\n",
    "\n",
    "I created two columns from the start_time data. One column for the hour and the other for the day of the week. The two columns have helped in identifying trends of bike usage based on hour of the day and the day of the week.  "
   ]
  },
  {
   "cell_type": "markdown",
   "metadata": {},
   "source": [
    "## Bivariate Exploration\n"
   ]
  },
  {
   "cell_type": "code",
   "execution_count": 119,
   "metadata": {},
   "outputs": [
    {
     "data": {
      "image/png": "[encoded data removed]",
      "text/plain": [
       "<Figure size 720x432 with 1 Axes>"
      ]
     },
     "metadata": {
      "needs_background": "light"
     },
     "output_type": "display_data"
    }
   ],
   "source": [
    "# Plotting barchart to check on the relationship between user_type and day of the week\n",
    "plt.figure(figsize=(10,6))\n",
    "day = ['Monday','Tuesday','Wednesday','Thursday','Friday','Saturday','Sunday']\n",
    "sns.countplot(data = ford_bike_clean, x = 'day_of_the_week', hue = 'user_type',order = day)\n",
    "label(\"Days of the week\",\"Number of Bike Users\",'Bike User Type vs Day  of the Week');\n"
   ]
  },
  {
   "cell_type": "markdown",
   "metadata": {},
   "source": [
    "#### There is a steady decline for bike usage during the weekends for the subscribers. The customers seem to be consistent on bike usage throughout the week"
   ]
  },
  {
   "cell_type": "code",
   "execution_count": 120,
   "metadata": {},
   "outputs": [
    {
     "data": {
      "image/png": "[encoded data removed]",
      "text/plain": [
       "<Figure size 720x432 with 1 Axes>"
      ]
     },
     "metadata": {
      "needs_background": "light"
     },
     "output_type": "display_data"
    }
   ],
   "source": [
    "# Plotting barchart to check on the relationship between shared trip vs day of the week\n",
    "plt.figure(figsize=(10,6))\n",
    "day = ['Monday','Tuesday','Wednesday','Thursday','Friday','Saturday','Sunday']\n",
    "sns.countplot(data = ford_bike_clean, x = 'day_of_the_week', hue = 'bike_share_for_all_trip',order = day)\n",
    "label(\"Days of the week\",\"Number of Bike Users\",'Shared Trips vs Day  of the Week')"
   ]
  },
  {
   "cell_type": "markdown",
   "metadata": {},
   "source": [
    "#### There is a noticeable decline for non-shared trips during the weekends. Shared trips seem to be consistent on bike usage throughout the week"
   ]
  },
  {
   "cell_type": "code",
   "execution_count": 121,
   "metadata": {},
   "outputs": [
    {
     "data": {
      "image/png": "[encoded data removed]",
      "text/plain": [
       "<Figure size 720x432 with 1 Axes>"
      ]
     },
     "metadata": {
      "needs_background": "light"
     },
     "output_type": "display_data"
    }
   ],
   "source": [
    "# Plotting barchart to check on the relationship between user type and hour of the day\n",
    "plt.figure(figsize=(10,6))\n",
    "hour = np.arange(0,24)\n",
    "sns.countplot(data = ford_bike_clean, x = 'hour', hue = 'user_type')\n",
    "label(\"Hour of the day\",\"Number of Bike Users\",'User Type vs Hour of the day')"
   ]
  },
  {
   "cell_type": "markdown",
   "metadata": {},
   "source": [
    "#### Both the customers and subscribers have similar patterns when it comes to time. The peak times are 8am and 5pm"
   ]
  },
  {
   "cell_type": "code",
   "execution_count": 122,
   "metadata": {},
   "outputs": [
    {
     "data": {
      "image/png": "[encoded data removed]",
      "text/plain": [
       "<Figure size 720x432 with 1 Axes>"
      ]
     },
     "metadata": {
      "needs_background": "light"
     },
     "output_type": "display_data"
    }
   ],
   "source": [
    "# Plotting barchart to check on the relationship between user type and hour of the day\n",
    "plt.figure(figsize=(10,6))\n",
    "hour = np.arange(0,24)\n",
    "sns.countplot(data = ford_bike_clean, x = 'hour', hue = 'bike_share_for_all_trip')\n",
    "label(\"Hour of the day\",\"Number of Bike Users\",'Shared Trips vs Hour of the day')"
   ]
  },
  {
   "cell_type": "markdown",
   "metadata": {},
   "source": [
    "#### The peak for non shared trips is 8am and 5pm. Makes sense since they are the peak hours"
   ]
  },
  {
   "cell_type": "code",
   "execution_count": 123,
   "metadata": {},
   "outputs": [
    {
     "data": {
      "image/png": "[encoded data removed]",
      "text/plain": [
       "<Figure size 720x432 with 1 Axes>"
      ]
     },
     "metadata": {
      "needs_background": "light"
     },
     "output_type": "display_data"
    }
   ],
   "source": [
    "# Plotting barchart to check on the relationship between user type and gender\n",
    "plt.figure(figsize=(10,6))\n",
    "sns.countplot(data = ford_bike_clean, x = 'member_gender', hue = 'user_type')\n",
    "label(\"Member_Gender\",\"Number of Bike Users\",'Bike User Type vs Gender')"
   ]
  },
  {
   "cell_type": "markdown",
   "metadata": {},
   "source": [
    "#### There are more male bike users than females and there are more subscribers than customers. The same is translated on the above plot"
   ]
  },
  {
   "cell_type": "code",
   "execution_count": 124,
   "metadata": {},
   "outputs": [
    {
     "data": {
      "image/png": "[encoded data removed]",
      "text/plain": [
       "<Figure size 720x432 with 1 Axes>"
      ]
     },
     "metadata": {
      "needs_background": "light"
     },
     "output_type": "display_data"
    }
   ],
   "source": [
    "#Plotting a bargraph of the average time subscribers and customers spend time on the bikes\n",
    "ford_bike_usertype_duration = ford_bike_clean[['user_type','duration_sec']].groupby('user_type').mean()\n",
    "ford_bike_usertype_duration.plot(kind = 'bar',figsize=(10,6),color = base_color)\n",
    "label(\"Bike User Type\",\"Duration\",'Bike User Type vs Duration')\n"
   ]
  },
  {
   "cell_type": "markdown",
   "metadata": {},
   "source": [
    "#### On average customers seem to spend more time on the bikes than subscribers"
   ]
  },
  {
   "cell_type": "code",
   "execution_count": 125,
   "metadata": {},
   "outputs": [
    {
     "data": {
      "image/png": "[encoded data removed]",
      "text/plain": [
       "<Figure size 720x432 with 1 Axes>"
      ]
     },
     "metadata": {
      "needs_background": "light"
     },
     "output_type": "display_data"
    }
   ],
   "source": [
    "#Plotting a bargraph of the average time male,females and others spend time on the bikes\n",
    "ford_bike_usertype_duration = ford_bike_clean[['member_gender','duration_sec']].groupby('member_gender').mean()\n",
    "ford_bike_usertype_duration.plot(kind = 'bar',figsize=(10,6),color = base_color)\n",
    "label(\"Member Gender\",\"Duration\",'Member Gender vs Duration')"
   ]
  },
  {
   "cell_type": "markdown",
   "metadata": {},
   "source": [
    "#### On average, Other and Females tend to spend more time on the bikes than males"
   ]
  },
  {
   "cell_type": "code",
   "execution_count": 126,
   "metadata": {},
   "outputs": [
    {
     "data": {
      "image/png": "[encoded data removed]",
      "text/plain": [
       "<Figure size 720x432 with 1 Axes>"
      ]
     },
     "metadata": {
      "needs_background": "light"
     },
     "output_type": "display_data"
    }
   ],
   "source": [
    "#Plotting a bargraph of the average time shared trips spend time on the bikes\n",
    "ford_bike_usertype_duration = ford_bike_clean[['bike_share_for_all_trip','duration_sec']].groupby('bike_share_for_all_trip').mean()\n",
    "ford_bike_usertype_duration.plot(kind = 'bar',figsize=(10,6),color = base_color)\n",
    "label(\"Shared Trip\",\"Duration\",'Shared Trip vs Duration')"
   ]
  },
  {
   "cell_type": "markdown",
   "metadata": {},
   "source": [
    "#### Shared trips and non shared trips seem to have close average duration"
   ]
  },
  {
   "cell_type": "markdown",
   "metadata": {},
   "source": [
    "### Talk about some of the relationships you observed in this part of the investigation. How did the feature(s) of interest vary with other features in the dataset?\n",
    "Both the customers and subscribers have similar patterns when it comes to time. The peak times are 8am and 5pm\n",
    "Subscribers have reduced bike usage over the weekend and the customers seem consistent throughout the week.\n",
    "There is a noticeable decline for non-shared trips during the weekends. Shared trips seem to be consistent on bike usage throughout the week\n",
    "The peak time for non-shared trips is 8am and 5pm. Makes sense since they are the peak hours\n",
    "Customers seem to spend more time on the bikes than subscribers\n",
    "\n",
    "\n",
    "### Did you observe any interesting relationships between the other features (not the main feature(s) of interest)?\n",
    "\n",
    "On average, other and females tend to spend more time on the bikes than males yet the males are 75% of the bike users\n",
    "On average customers seem to spend more time on the bikes than subscribers yet subscribers are 89% of the bike users"
   ]
  },
  {
   "cell_type": "markdown",
   "metadata": {},
   "source": [
    "## Multivariate Exploration"
   ]
  },
  {
   "cell_type": "code",
   "execution_count": 127,
   "metadata": {},
   "outputs": [
    {
     "data": {
      "text/plain": [
       "Text(0.5, 1.0, 'Duration Usage by the Hour(User_Type)')"
      ]
     },
     "execution_count": 127,
     "metadata": {},
     "output_type": "execute_result"
    },
    {
     "data": {
      "image/png": "[encoded data removed]",
      "text/plain": [
       "<Figure size 720x432 with 1 Axes>"
      ]
     },
     "metadata": {
      "needs_background": "light"
     },
     "output_type": "display_data"
    }
   ],
   "source": [
    "# plotting a barplot to show the relationship between duration, user type and hour of the day\n",
    "plt.figure(figsize=(10,6))\n",
    "hour = np.arange(0,24)\n",
    "sns.barplot(data = ford_bike_clean, x = 'hour',y= 'duration_sec',hue = 'user_type',ci=None)\n",
    "plt.title('Duration Usage by the Hour(User_Type)', fontsize=15)"
   ]
  },
  {
   "cell_type": "markdown",
   "metadata": {},
   "source": [
    "#### Customers tend to be spending most time with the bikes at each time of the day with the peak times being 2am and 3am"
   ]
  },
  {
   "cell_type": "code",
   "execution_count": 128,
   "metadata": {},
   "outputs": [
    {
     "data": {
      "text/plain": [
       "Text(0.5, 1.0, 'Duration Usage by the Hour(Gender)')"
      ]
     },
     "execution_count": 128,
     "metadata": {},
     "output_type": "execute_result"
    },
    {
     "data": {
      "image/png": "[encoded data removed]",
      "text/plain": [
       "<Figure size 720x432 with 1 Axes>"
      ]
     },
     "metadata": {
      "needs_background": "light"
     },
     "output_type": "display_data"
    }
   ],
   "source": [
    "# plotting a barplot to show the relationship between duration, gender and hour of the day\n",
    "plt.figure(figsize=(10,6))\n",
    "hour = np.arange(0,24)\n",
    "sns.barplot(data = ford_bike_clean, x = 'hour',y= 'duration_sec',hue = 'member_gender',ci=None)\n",
    "plt.title('Duration Usage by the Hour(Gender)', fontsize=15)"
   ]
  },
  {
   "cell_type": "markdown",
   "metadata": {},
   "source": [
    "#### Females and Other tend to be spending most time with the bikes at each time of the day with the peak times being 2am and 3am"
   ]
  },
  {
   "cell_type": "code",
   "execution_count": 129,
   "metadata": {},
   "outputs": [
    {
     "data": {
      "text/plain": [
       "Text(0.5, 1.0, 'Duration Usage by the Hour(Shared Trip)')"
      ]
     },
     "execution_count": 129,
     "metadata": {},
     "output_type": "execute_result"
    },
    {
     "data": {
      "image/png": "[encoded data removed]",
      "text/plain": [
       "<Figure size 720x432 with 1 Axes>"
      ]
     },
     "metadata": {
      "needs_background": "light"
     },
     "output_type": "display_data"
    }
   ],
   "source": [
    "# plotting a barplot to show the relationship between duration, shared trip and hour of the day\n",
    "plt.figure(figsize=(10,6))\n",
    "hour = np.arange(0,24)\n",
    "sns.barplot(data = ford_bike_clean, x = 'hour',y= 'duration_sec',hue = 'bike_share_for_all_trip',ci=None)\n",
    "plt.title('Duration Usage by the Hour(Shared Trip)', fontsize=15)"
   ]
  },
  {
   "cell_type": "markdown",
   "metadata": {},
   "source": [
    "#### The peak for shared trips is 2am and 3am"
   ]
  },
  {
   "cell_type": "markdown",
   "metadata": {},
   "source": [
    "### Talk about some of the relationships you observed in this part of the investigation. Were there features that strengthened each other in terms of looking at your feature(s) of interest?\n",
    "\n",
    "Females and Other tend to be spending most time with the bikes at each time of the day with the peak times being 2am and 3am yet they are 25% of the bike users\n",
    "Customers tend to be spending most time with the bikes at each time of the day with the peak times being 2am and 3am yet they are 11% of the bike users\n",
    "\n",
    "### Were there any interesting or surprising interactions between features?\n",
    "\n",
    "The peak time where the bike riders spend most their time with the bikes is between 2am and 3am\n"
   ]
  },
  {
   "cell_type": "markdown",
   "metadata": {},
   "source": [
    "## Conclusions\n"
   ]
  },
  {
   "cell_type": "markdown",
   "metadata": {},
   "source": [
    "#### 89% of the bike users are subscribers, 75% are males and 91% of the trips were non-shared trips. Weekdays are the peak days for bike usage and there is a decline during the weekends. The most busy hours for bike usage are 8am and 5am. On average, customers seem to spend more time with the bikes than subscribers and the peak times are 2am and 3am. Other and females spend more time on average with the bikes than males and their peak times are 2am and 3am. The overall peak time where the bike users spend most of the time with the bikes is also 2am and 3pm."
   ]
  }
 ],
 "metadata": {
  "kernelspec": {
   "display_name": "Python 3 (ipykernel)",
   "language": "python",
   "name": "python3"
  },
  "language_info": {
   "codemirror_mode": {
    "name": "ipython",
    "version": 3
   },
   "file_extension": ".py",
   "mimetype": "text/x-python",
   "name": "python",
   "nbconvert_exporter": "python",
   "pygments_lexer": "ipython3",
   "version": "3.9.12"
  }
 },
 "nbformat": 4,
 "nbformat_minor": 2
}
